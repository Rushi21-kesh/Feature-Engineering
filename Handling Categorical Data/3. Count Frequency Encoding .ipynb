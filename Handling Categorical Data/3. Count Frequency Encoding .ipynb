{
 "cells": [
  {
   "cell_type": "markdown",
   "metadata": {},
   "source": [
    "\n",
    "<h1 align='center' style=\"color:red;\"><u>|| Count Frequency Encoding Technique ||</h1>\n",
    "<br><br>\n",
    "    <h3>\n",
    "<font color='#045FB4' >\n",
    "    \n",
    "- This technique is usefull when we have frequent values in our feature\n",
    "\n",
    "- Here we replace category values with their frequency count "
   ]
  },
  {
   "cell_type": "markdown",
   "metadata": {},
   "source": [
    "<h3 style=\"color:#B4045F;\">Import required libraries</h3><br>"
   ]
  },
  {
   "cell_type": "code",
   "execution_count": 1,
   "metadata": {},
   "outputs": [],
   "source": [
    "import pandas as pd\n",
    "import numpy as np\n",
    "import seaborn as sns\n",
    "import matplotlib.pyplot as plt\n",
    "import missingno as mn\n",
    "\n",
    "%matplotlib inline"
   ]
  },
  {
   "cell_type": "code",
   "execution_count": 2,
   "metadata": {},
   "outputs": [
    {
     "data": {
      "text/html": [
       "<div>\n",
       "<style scoped>\n",
       "    .dataframe tbody tr th:only-of-type {\n",
       "        vertical-align: middle;\n",
       "    }\n",
       "\n",
       "    .dataframe tbody tr th {\n",
       "        vertical-align: top;\n",
       "    }\n",
       "\n",
       "    .dataframe thead th {\n",
       "        text-align: right;\n",
       "    }\n",
       "</style>\n",
       "<table border=\"1\" class=\"dataframe\">\n",
       "  <thead>\n",
       "    <tr style=\"text-align: right;\">\n",
       "      <th></th>\n",
       "      <th>Sr.No</th>\n",
       "      <th>District</th>\n",
       "      <th>Taluka</th>\n",
       "      <th>College Name</th>\n",
       "      <th>University</th>\n",
       "      <th>College Type</th>\n",
       "      <th>Course Name</th>\n",
       "      <th>Course Type</th>\n",
       "      <th>Is Professional</th>\n",
       "      <th>Course (Aided / Unaided)</th>\n",
       "      <th>Course Duration (In months)</th>\n",
       "      <th>Course Category</th>\n",
       "    </tr>\n",
       "  </thead>\n",
       "  <tbody>\n",
       "    <tr>\n",
       "      <th>0</th>\n",
       "      <td>1</td>\n",
       "      <td>Amravati</td>\n",
       "      <td>Amravati</td>\n",
       "      <td>Government College of Engineering, Amravati</td>\n",
       "      <td>SANT GADGE BABA AMRAVATI UNIVERSITY</td>\n",
       "      <td>Government</td>\n",
       "      <td>Master of Engineering (M. E.) - Computer Scien...</td>\n",
       "      <td>Post Graduate Course</td>\n",
       "      <td>Professional Course</td>\n",
       "      <td>Aided</td>\n",
       "      <td>24</td>\n",
       "      <td>Engineering</td>\n",
       "    </tr>\n",
       "    <tr>\n",
       "      <th>1</th>\n",
       "      <td>2</td>\n",
       "      <td>Amravati</td>\n",
       "      <td>Amravati</td>\n",
       "      <td>Government College of Engineering, Amravati</td>\n",
       "      <td>SANT GADGE BABA AMRAVATI UNIVERSITY</td>\n",
       "      <td>Government</td>\n",
       "      <td>Master of Engineering (M. E.) - Electrical Pow...</td>\n",
       "      <td>Post Graduate Course</td>\n",
       "      <td>Professional Course</td>\n",
       "      <td>Aided</td>\n",
       "      <td>24</td>\n",
       "      <td>Engineering</td>\n",
       "    </tr>\n",
       "    <tr>\n",
       "      <th>2</th>\n",
       "      <td>3</td>\n",
       "      <td>Amravati</td>\n",
       "      <td>Amravati</td>\n",
       "      <td>Government College of Engineering, Amravati</td>\n",
       "      <td>SANT GADGE BABA AMRAVATI UNIVERSITY</td>\n",
       "      <td>Government</td>\n",
       "      <td>Master of Engineering (M. E.) - Thermal Power ...</td>\n",
       "      <td>Post Graduate Course</td>\n",
       "      <td>Professional Course</td>\n",
       "      <td>Aided</td>\n",
       "      <td>24</td>\n",
       "      <td>Engineering</td>\n",
       "    </tr>\n",
       "  </tbody>\n",
       "</table>\n",
       "</div>"
      ],
      "text/plain": [
       "   Sr.No  District    Taluka                                 College Name  \\\n",
       "0      1  Amravati  Amravati  Government College of Engineering, Amravati   \n",
       "1      2  Amravati  Amravati  Government College of Engineering, Amravati   \n",
       "2      3  Amravati  Amravati  Government College of Engineering, Amravati   \n",
       "\n",
       "                            University College Type  \\\n",
       "0  SANT GADGE BABA AMRAVATI UNIVERSITY   Government   \n",
       "1  SANT GADGE BABA AMRAVATI UNIVERSITY   Government   \n",
       "2  SANT GADGE BABA AMRAVATI UNIVERSITY   Government   \n",
       "\n",
       "                                         Course Name           Course Type  \\\n",
       "0  Master of Engineering (M. E.) - Computer Scien...  Post Graduate Course   \n",
       "1  Master of Engineering (M. E.) - Electrical Pow...  Post Graduate Course   \n",
       "2  Master of Engineering (M. E.) - Thermal Power ...  Post Graduate Course   \n",
       "\n",
       "       Is Professional Course (Aided / Unaided)  Course Duration (In months)  \\\n",
       "0  Professional Course                    Aided                           24   \n",
       "1  Professional Course                    Aided                           24   \n",
       "2  Professional Course                    Aided                           24   \n",
       "\n",
       "  Course Category  \n",
       "0     Engineering  \n",
       "1     Engineering  \n",
       "2     Engineering  "
      ]
     },
     "execution_count": 2,
     "metadata": {},
     "output_type": "execute_result"
    }
   ],
   "source": [
    "data = pd.read_csv('Colleges_Data.csv')\n",
    "data.head(3)"
   ]
  },
  {
   "cell_type": "markdown",
   "metadata": {},
   "source": [
    "<h3 style=\"color:#B4045F;\"> Check null values </h3><br>"
   ]
  },
  {
   "cell_type": "code",
   "execution_count": 3,
   "metadata": {},
   "outputs": [
    {
     "data": {
      "text/plain": [
       "Sr.No                          0.000000\n",
       "District                       0.000000\n",
       "Taluka                         0.000000\n",
       "College Name                   0.000000\n",
       "University                     0.000000\n",
       "College Type                   0.008179\n",
       "Course Name                    0.000000\n",
       "Course Type                    0.000000\n",
       "Is Professional                0.000000\n",
       "Course (Aided / Unaided)       0.000000\n",
       "Course Duration (In months)    0.000000\n",
       "Course Category                0.000000\n",
       "dtype: float64"
      ]
     },
     "execution_count": 3,
     "metadata": {},
     "output_type": "execute_result"
    }
   ],
   "source": [
    "data.isnull().mean()"
   ]
  },
  {
   "cell_type": "code",
   "execution_count": 4,
   "metadata": {},
   "outputs": [
    {
     "data": {
      "text/plain": [
       "<AxesSubplot:>"
      ]
     },
     "execution_count": 4,
     "metadata": {},
     "output_type": "execute_result"
    },
    {
     "data": {
      "image/png": "[encoded data removed]",
      "text/plain": [
       "<Figure size 1800x720 with 2 Axes>"
      ]
     },
     "metadata": {
      "needs_background": "light"
     },
     "output_type": "display_data"
    }
   ],
   "source": [
    "mn.matrix(data)"
   ]
  },
  {
   "cell_type": "markdown",
   "metadata": {},
   "source": [
    "<h3 style=\"color:#B4045F;\"> Collecting Object type feature </h3><br>"
   ]
  },
  {
   "cell_type": "code",
   "execution_count": 5,
   "metadata": {},
   "outputs": [
    {
     "data": {
      "text/html": [
       "<div>\n",
       "<style scoped>\n",
       "    .dataframe tbody tr th:only-of-type {\n",
       "        vertical-align: middle;\n",
       "    }\n",
       "\n",
       "    .dataframe tbody tr th {\n",
       "        vertical-align: top;\n",
       "    }\n",
       "\n",
       "    .dataframe thead th {\n",
       "        text-align: right;\n",
       "    }\n",
       "</style>\n",
       "<table border=\"1\" class=\"dataframe\">\n",
       "  <thead>\n",
       "    <tr style=\"text-align: right;\">\n",
       "      <th></th>\n",
       "      <th>District</th>\n",
       "      <th>Taluka</th>\n",
       "      <th>College Name</th>\n",
       "      <th>University</th>\n",
       "      <th>College Type</th>\n",
       "      <th>Course Name</th>\n",
       "      <th>Course Type</th>\n",
       "      <th>Is Professional</th>\n",
       "      <th>Course (Aided / Unaided)</th>\n",
       "      <th>Course Category</th>\n",
       "    </tr>\n",
       "  </thead>\n",
       "  <tbody>\n",
       "    <tr>\n",
       "      <th>0</th>\n",
       "      <td>Amravati</td>\n",
       "      <td>Amravati</td>\n",
       "      <td>Government College of Engineering, Amravati</td>\n",
       "      <td>SANT GADGE BABA AMRAVATI UNIVERSITY</td>\n",
       "      <td>Government</td>\n",
       "      <td>Master of Engineering (M. E.) - Computer Scien...</td>\n",
       "      <td>Post Graduate Course</td>\n",
       "      <td>Professional Course</td>\n",
       "      <td>Aided</td>\n",
       "      <td>Engineering</td>\n",
       "    </tr>\n",
       "    <tr>\n",
       "      <th>1</th>\n",
       "      <td>Amravati</td>\n",
       "      <td>Amravati</td>\n",
       "      <td>Government College of Engineering, Amravati</td>\n",
       "      <td>SANT GADGE BABA AMRAVATI UNIVERSITY</td>\n",
       "      <td>Government</td>\n",
       "      <td>Master of Engineering (M. E.) - Electrical Pow...</td>\n",
       "      <td>Post Graduate Course</td>\n",
       "      <td>Professional Course</td>\n",
       "      <td>Aided</td>\n",
       "      <td>Engineering</td>\n",
       "    </tr>\n",
       "    <tr>\n",
       "      <th>2</th>\n",
       "      <td>Amravati</td>\n",
       "      <td>Amravati</td>\n",
       "      <td>Government College of Engineering, Amravati</td>\n",
       "      <td>SANT GADGE BABA AMRAVATI UNIVERSITY</td>\n",
       "      <td>Government</td>\n",
       "      <td>Master of Engineering (M. E.) - Thermal Power ...</td>\n",
       "      <td>Post Graduate Course</td>\n",
       "      <td>Professional Course</td>\n",
       "      <td>Aided</td>\n",
       "      <td>Engineering</td>\n",
       "    </tr>\n",
       "    <tr>\n",
       "      <th>3</th>\n",
       "      <td>Amravati</td>\n",
       "      <td>Amravati</td>\n",
       "      <td>Government College of Engineering, Amravati</td>\n",
       "      <td>SANT GADGE BABA AMRAVATI UNIVERSITY</td>\n",
       "      <td>Government</td>\n",
       "      <td>Bachelor of Engineering (B. E.) - Information ...</td>\n",
       "      <td>Under Graduate Course</td>\n",
       "      <td>Professional Course</td>\n",
       "      <td>Aided</td>\n",
       "      <td>Engineering</td>\n",
       "    </tr>\n",
       "    <tr>\n",
       "      <th>4</th>\n",
       "      <td>Amravati</td>\n",
       "      <td>Amravati</td>\n",
       "      <td>Government College of Engineering, Amravati</td>\n",
       "      <td>SANT GADGE BABA AMRAVATI UNIVERSITY</td>\n",
       "      <td>Government</td>\n",
       "      <td>Bachelor of Engineering (B. E.) - Electrical E...</td>\n",
       "      <td>Under Graduate Course</td>\n",
       "      <td>Professional Course</td>\n",
       "      <td>Aided</td>\n",
       "      <td>Engineering</td>\n",
       "    </tr>\n",
       "  </tbody>\n",
       "</table>\n",
       "</div>"
      ],
      "text/plain": [
       "   District    Taluka                                 College Name  \\\n",
       "0  Amravati  Amravati  Government College of Engineering, Amravati   \n",
       "1  Amravati  Amravati  Government College of Engineering, Amravati   \n",
       "2  Amravati  Amravati  Government College of Engineering, Amravati   \n",
       "3  Amravati  Amravati  Government College of Engineering, Amravati   \n",
       "4  Amravati  Amravati  Government College of Engineering, Amravati   \n",
       "\n",
       "                            University College Type  \\\n",
       "0  SANT GADGE BABA AMRAVATI UNIVERSITY   Government   \n",
       "1  SANT GADGE BABA AMRAVATI UNIVERSITY   Government   \n",
       "2  SANT GADGE BABA AMRAVATI UNIVERSITY   Government   \n",
       "3  SANT GADGE BABA AMRAVATI UNIVERSITY   Government   \n",
       "4  SANT GADGE BABA AMRAVATI UNIVERSITY   Government   \n",
       "\n",
       "                                         Course Name            Course Type  \\\n",
       "0  Master of Engineering (M. E.) - Computer Scien...   Post Graduate Course   \n",
       "1  Master of Engineering (M. E.) - Electrical Pow...   Post Graduate Course   \n",
       "2  Master of Engineering (M. E.) - Thermal Power ...   Post Graduate Course   \n",
       "3  Bachelor of Engineering (B. E.) - Information ...  Under Graduate Course   \n",
       "4  Bachelor of Engineering (B. E.) - Electrical E...  Under Graduate Course   \n",
       "\n",
       "       Is Professional Course (Aided / Unaided) Course Category  \n",
       "0  Professional Course                    Aided     Engineering  \n",
       "1  Professional Course                    Aided     Engineering  \n",
       "2  Professional Course                    Aided     Engineering  \n",
       "3  Professional Course                    Aided     Engineering  \n",
       "4  Professional Course                    Aided     Engineering  "
      ]
     },
     "execution_count": 5,
     "metadata": {},
     "output_type": "execute_result"
    }
   ],
   "source": [
    "data = data.select_dtypes(object)\n",
    "data.head()"
   ]
  },
  {
   "cell_type": "markdown",
   "metadata": {},
   "source": [
    "<h3 style=\"color:#B4045F;\">Find Unique values count with respect to each feature<br>"
   ]
  },
  {
   "cell_type": "code",
   "execution_count": 6,
   "metadata": {
    "scrolled": true
   },
   "outputs": [
    {
     "name": "stdout",
     "output_type": "stream",
     "text": [
      "District : 37\n",
      "Taluka : 357\n",
      "College Name : 15270\n",
      "University : 50\n",
      "College Type : 11\n",
      "Course Name : 1254\n",
      "Course Type : 10\n",
      "Is Professional : 2\n",
      "Course (Aided / Unaided) : 2\n",
      "Course Category : 18\n"
     ]
    }
   ],
   "source": [
    "for col in data.columns:\n",
    "    print('{} : {}'.format(col,data[col].nunique()))"
   ]
  },
  {
   "cell_type": "markdown",
   "metadata": {},
   "source": [
    "<h3 align='center' style=\"color:green;\">Now, we Perform Count Frequency Encoding on 'District' Feature<br>"
   ]
  },
  {
   "cell_type": "code",
   "execution_count": 7,
   "metadata": {},
   "outputs": [
    {
     "data": {
      "text/plain": [
       "<AxesSubplot:>"
      ]
     },
     "execution_count": 7,
     "metadata": {},
     "output_type": "execute_result"
    },
    {
     "data": {
      "image/png": "[encoded data removed]",
      "text/plain": [
       "<Figure size 864x504 with 1 Axes>"
      ]
     },
     "metadata": {
      "needs_background": "light"
     },
     "output_type": "display_data"
    }
   ],
   "source": [
    "plt.figure(figsize=(12,7))\n",
    "data['District'].value_counts().plot(kind='bar',color='grey')"
   ]
  },
  {
   "cell_type": "markdown",
   "metadata": {},
   "source": [
    "<h3 style=\"color:#B4045F;\">Getting a frequency count of each district<br>"
   ]
  },
  {
   "cell_type": "code",
   "execution_count": 8,
   "metadata": {
    "scrolled": true
   },
   "outputs": [
    {
     "data": {
      "text/plain": [
       "Pune               6013\n",
       "Nagpur             3687\n",
       "Thane              2861\n",
       "Mumbai Suburban    2837\n",
       "Ahmednagar         2736\n",
       "Nashik             2696\n",
       "Aurangabad         2570\n",
       "Kolhapur           2100\n",
       "Amravati           2097\n",
       "Jalgaon            1963\n",
       "Solapur            1896\n",
       "Chandrapur         1770\n",
       "Nanded             1670\n",
       "Beed               1616\n",
       "Sangli             1576\n",
       "Latur              1545\n",
       "Satara             1528\n",
       "Yavatmal           1518\n",
       "Raigarh            1469\n",
       "Buldana            1418\n",
       "Mumbai City        1306\n",
       "Jalna              1147\n",
       "Parbhani           1127\n",
       "Akola              1101\n",
       "Wardha             1065\n",
       "Dhule              1057\n",
       "Gondiya             997\n",
       "Palghar             958\n",
       "Ratnagiri           912\n",
       "Bhandara            911\n",
       "Osmanabad           858\n",
       "Gadchiroli          819\n",
       "Washim              707\n",
       "Nandurbar           606\n",
       "Hingoli             564\n",
       "Sindhudurg          551\n",
       "South West           28\n",
       "Name: District, dtype: int64"
      ]
     },
     "execution_count": 8,
     "metadata": {},
     "output_type": "execute_result"
    }
   ],
   "source": [
    "data['District'].value_counts()"
   ]
  },
  {
   "cell_type": "markdown",
   "metadata": {},
   "source": [
    "<h3 style=\"color:#B4045F;\">Create a dictionary of District name and their frequenct count<br>"
   ]
  },
  {
   "cell_type": "code",
   "execution_count": 9,
   "metadata": {},
   "outputs": [
    {
     "data": {
      "text/plain": [
       "{'Pune': 6013,\n",
       " 'Nagpur': 3687,\n",
       " 'Thane': 2861,\n",
       " 'Mumbai Suburban': 2837,\n",
       " 'Ahmednagar': 2736,\n",
       " 'Nashik': 2696,\n",
       " 'Aurangabad': 2570,\n",
       " 'Kolhapur': 2100,\n",
       " 'Amravati': 2097,\n",
       " 'Jalgaon': 1963,\n",
       " 'Solapur': 1896,\n",
       " 'Chandrapur': 1770,\n",
       " 'Nanded': 1670,\n",
       " 'Beed': 1616,\n",
       " 'Sangli': 1576,\n",
       " 'Latur': 1545,\n",
       " 'Satara': 1528,\n",
       " 'Yavatmal': 1518,\n",
       " 'Raigarh': 1469,\n",
       " 'Buldana': 1418,\n",
       " 'Mumbai City': 1306,\n",
       " 'Jalna': 1147,\n",
       " 'Parbhani': 1127,\n",
       " 'Akola': 1101,\n",
       " 'Wardha': 1065,\n",
       " 'Dhule': 1057,\n",
       " 'Gondiya': 997,\n",
       " 'Palghar': 958,\n",
       " 'Ratnagiri': 912,\n",
       " 'Bhandara': 911,\n",
       " 'Osmanabad': 858,\n",
       " 'Gadchiroli': 819,\n",
       " 'Washim': 707,\n",
       " 'Nandurbar': 606,\n",
       " 'Hingoli': 564,\n",
       " 'Sindhudurg': 551,\n",
       " 'South West': 28}"
      ]
     },
     "execution_count": 9,
     "metadata": {},
     "output_type": "execute_result"
    }
   ],
   "source": [
    "dictionary = data['District'].value_counts().to_dict()\n",
    "dictionary"
   ]
  },
  {
   "cell_type": "markdown",
   "metadata": {},
   "source": [
    "<h3 style=\"color:#B4045F;\">Replace Category by their frequency count<br>"
   ]
  },
  {
   "cell_type": "code",
   "execution_count": 10,
   "metadata": {},
   "outputs": [],
   "source": [
    "data['District'] = data['District'].map(dictionary)"
   ]
  },
  {
   "cell_type": "markdown",
   "metadata": {},
   "source": [
    "<h3 style=\"color:#B4045F;\">Check Dataset<br>"
   ]
  },
  {
   "cell_type": "code",
   "execution_count": 11,
   "metadata": {},
   "outputs": [
    {
     "data": {
      "text/html": [
       "<div>\n",
       "<style scoped>\n",
       "    .dataframe tbody tr th:only-of-type {\n",
       "        vertical-align: middle;\n",
       "    }\n",
       "\n",
       "    .dataframe tbody tr th {\n",
       "        vertical-align: top;\n",
       "    }\n",
       "\n",
       "    .dataframe thead th {\n",
       "        text-align: right;\n",
       "    }\n",
       "</style>\n",
       "<table border=\"1\" class=\"dataframe\">\n",
       "  <thead>\n",
       "    <tr style=\"text-align: right;\">\n",
       "      <th></th>\n",
       "      <th>District</th>\n",
       "      <th>Taluka</th>\n",
       "      <th>College Name</th>\n",
       "      <th>University</th>\n",
       "      <th>College Type</th>\n",
       "      <th>Course Name</th>\n",
       "      <th>Course Type</th>\n",
       "      <th>Is Professional</th>\n",
       "      <th>Course (Aided / Unaided)</th>\n",
       "      <th>Course Category</th>\n",
       "    </tr>\n",
       "  </thead>\n",
       "  <tbody>\n",
       "    <tr>\n",
       "      <th>0</th>\n",
       "      <td>2097</td>\n",
       "      <td>Amravati</td>\n",
       "      <td>Government College of Engineering, Amravati</td>\n",
       "      <td>SANT GADGE BABA AMRAVATI UNIVERSITY</td>\n",
       "      <td>Government</td>\n",
       "      <td>Master of Engineering (M. E.) - Computer Scien...</td>\n",
       "      <td>Post Graduate Course</td>\n",
       "      <td>Professional Course</td>\n",
       "      <td>Aided</td>\n",
       "      <td>Engineering</td>\n",
       "    </tr>\n",
       "    <tr>\n",
       "      <th>1</th>\n",
       "      <td>2097</td>\n",
       "      <td>Amravati</td>\n",
       "      <td>Government College of Engineering, Amravati</td>\n",
       "      <td>SANT GADGE BABA AMRAVATI UNIVERSITY</td>\n",
       "      <td>Government</td>\n",
       "      <td>Master of Engineering (M. E.) - Electrical Pow...</td>\n",
       "      <td>Post Graduate Course</td>\n",
       "      <td>Professional Course</td>\n",
       "      <td>Aided</td>\n",
       "      <td>Engineering</td>\n",
       "    </tr>\n",
       "    <tr>\n",
       "      <th>2</th>\n",
       "      <td>2097</td>\n",
       "      <td>Amravati</td>\n",
       "      <td>Government College of Engineering, Amravati</td>\n",
       "      <td>SANT GADGE BABA AMRAVATI UNIVERSITY</td>\n",
       "      <td>Government</td>\n",
       "      <td>Master of Engineering (M. E.) - Thermal Power ...</td>\n",
       "      <td>Post Graduate Course</td>\n",
       "      <td>Professional Course</td>\n",
       "      <td>Aided</td>\n",
       "      <td>Engineering</td>\n",
       "    </tr>\n",
       "    <tr>\n",
       "      <th>3</th>\n",
       "      <td>2097</td>\n",
       "      <td>Amravati</td>\n",
       "      <td>Government College of Engineering, Amravati</td>\n",
       "      <td>SANT GADGE BABA AMRAVATI UNIVERSITY</td>\n",
       "      <td>Government</td>\n",
       "      <td>Bachelor of Engineering (B. E.) - Information ...</td>\n",
       "      <td>Under Graduate Course</td>\n",
       "      <td>Professional Course</td>\n",
       "      <td>Aided</td>\n",
       "      <td>Engineering</td>\n",
       "    </tr>\n",
       "    <tr>\n",
       "      <th>4</th>\n",
       "      <td>2097</td>\n",
       "      <td>Amravati</td>\n",
       "      <td>Government College of Engineering, Amravati</td>\n",
       "      <td>SANT GADGE BABA AMRAVATI UNIVERSITY</td>\n",
       "      <td>Government</td>\n",
       "      <td>Bachelor of Engineering (B. E.) - Electrical E...</td>\n",
       "      <td>Under Graduate Course</td>\n",
       "      <td>Professional Course</td>\n",
       "      <td>Aided</td>\n",
       "      <td>Engineering</td>\n",
       "    </tr>\n",
       "  </tbody>\n",
       "</table>\n",
       "</div>"
      ],
      "text/plain": [
       "   District    Taluka                                 College Name  \\\n",
       "0      2097  Amravati  Government College of Engineering, Amravati   \n",
       "1      2097  Amravati  Government College of Engineering, Amravati   \n",
       "2      2097  Amravati  Government College of Engineering, Amravati   \n",
       "3      2097  Amravati  Government College of Engineering, Amravati   \n",
       "4      2097  Amravati  Government College of Engineering, Amravati   \n",
       "\n",
       "                            University College Type  \\\n",
       "0  SANT GADGE BABA AMRAVATI UNIVERSITY   Government   \n",
       "1  SANT GADGE BABA AMRAVATI UNIVERSITY   Government   \n",
       "2  SANT GADGE BABA AMRAVATI UNIVERSITY   Government   \n",
       "3  SANT GADGE BABA AMRAVATI UNIVERSITY   Government   \n",
       "4  SANT GADGE BABA AMRAVATI UNIVERSITY   Government   \n",
       "\n",
       "                                         Course Name            Course Type  \\\n",
       "0  Master of Engineering (M. E.) - Computer Scien...   Post Graduate Course   \n",
       "1  Master of Engineering (M. E.) - Electrical Pow...   Post Graduate Course   \n",
       "2  Master of Engineering (M. E.) - Thermal Power ...   Post Graduate Course   \n",
       "3  Bachelor of Engineering (B. E.) - Information ...  Under Graduate Course   \n",
       "4  Bachelor of Engineering (B. E.) - Electrical E...  Under Graduate Course   \n",
       "\n",
       "       Is Professional Course (Aided / Unaided) Course Category  \n",
       "0  Professional Course                    Aided     Engineering  \n",
       "1  Professional Course                    Aided     Engineering  \n",
       "2  Professional Course                    Aided     Engineering  \n",
       "3  Professional Course                    Aided     Engineering  \n",
       "4  Professional Course                    Aided     Engineering  "
      ]
     },
     "execution_count": 11,
     "metadata": {},
     "output_type": "execute_result"
    }
   ],
   "source": [
    "data.head()"
   ]
  },
  {
   "cell_type": "markdown",
   "metadata": {},
   "source": [
    "<font color=\"#045FB4\">\n",
    "- We can see that we replace District name with their frequency count \n",
    "<br>\n",
    "    \n",
    "## Note:\n",
    "\n",
    "- This method is easy to implement     \n",
    "- It does not create new feature hence it not increasing feature space \n",
    "- If two category having same frequency count then it will provide same weight to both"
   ]
  },
  {
   "cell_type": "markdown",
   "metadata": {},
   "source": [
    "### Please let me know your feedback in comment section\n",
    "#### Also, [take a look at my other notebooks](https://www.kaggle.com/rushikeshlavate/notebooks)\n",
    "<h1 align='center' style=\"color:green;\"><u>|| Thank you ! 😀😀 ||</h1>"
   ]
  }
 ],
 "metadata": {
  "kernelspec": {
   "display_name": "Python 3",
   "language": "python",
   "name": "python3"
  },
  "language_info": {
   "codemirror_mode": {
    "name": "ipython",
    "version": 3
   },
   "file_extension": ".py",
   "mimetype": "text/x-python",
   "name": "python",
   "nbconvert_exporter": "python",
   "pygments_lexer": "ipython3",
   "version": "3.8.5"
  }
 },
 "nbformat": 4,
 "nbformat_minor": 4
}
