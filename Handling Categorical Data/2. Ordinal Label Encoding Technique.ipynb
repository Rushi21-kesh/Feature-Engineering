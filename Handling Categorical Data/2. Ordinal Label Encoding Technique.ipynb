{
 "cells": [
  {
   "cell_type": "markdown",
   "metadata": {},
   "source": [
    "<h1 align='center' style=\"color:red;\"><u>|| Ordinal Label Encoding Technique ||</h1>\n",
    "<br><br>\n",
    "<font color='#045FB4'>\n",
    "    <h3>This technique is applicable on ordinal categorical data.</h3><br>\n",
    "- Ordinal data is a categorical, statistical data type where the variables have natural, ordered categories and the distances between the categories is not known.\n",
    "\n",
    "- For example :\n",
    "    - We have a feature education with values SSC,HSC,Diploma,Batchlor,Master,PhD so we can easily rank this :\n",
    "        - PhD person is hold a rank 1\n",
    "        - Master = rank 2\n",
    "        - Batchlor = rank 3\n",
    "        - Diploma = rank 4\n",
    "        - HSC = rank 5 \n",
    "        - SSC = rank 6.\n",
    "    - We have a feature experience with different values in years formalt. Here we rank base on how much year of experience person have. person with :\n",
    "        - 10+ yr exp  = 1st rank,\n",
    "        - 5 to 10 yr exp = 2nd rank\n",
    "        - 0-5 ye exp = 3rd rank."
   ]
  },
  {
   "cell_type": "markdown",
   "metadata": {},
   "source": [
    "<h3 align='center' style=\"color:green;\"> Here we create a dataset using datetime library and perform ordinal label encoding </h3>"
   ]
  },
  {
   "cell_type": "markdown",
   "metadata": {},
   "source": [
    "<h3 style=\"color:#B4045F;\">Import required libraries</h3><br>"
   ]
  },
  {
   "cell_type": "code",
   "execution_count": 54,
   "metadata": {},
   "outputs": [],
   "source": [
    "import numpy as np\n",
    "import pandas as pd\n",
    "import datetime as dt"
   ]
  },
  {
   "cell_type": "markdown",
   "metadata": {},
   "source": [
    "<h3 style=\"color:#B4045F;\">Find today date and time using .now() function</h3><br>"
   ]
  },
  {
   "cell_type": "code",
   "execution_count": 55,
   "metadata": {},
   "outputs": [
    {
     "data": {
      "text/plain": [
       "datetime.datetime(2021, 1, 8, 22, 35, 28, 807132)"
      ]
     },
     "execution_count": 55,
     "metadata": {},
     "output_type": "execute_result"
    }
   ],
   "source": [
    "today = dt.datetime.now()\n",
    "today"
   ]
  },
  {
   "cell_type": "markdown",
   "metadata": {},
   "source": [
    "<h3 style=\"color:#B4045F;\"> Create a list of last 20 days </h3><br>"
   ]
  },
  {
   "cell_type": "code",
   "execution_count": 56,
   "metadata": {},
   "outputs": [],
   "source": [
    "data = []\n",
    "for i in range(20):\n",
    "    data.append(today-dt.timedelta(i))"
   ]
  },
  {
   "cell_type": "code",
   "execution_count": 57,
   "metadata": {},
   "outputs": [
    {
     "data": {
      "text/plain": [
       "[datetime.datetime(2021, 1, 8, 22, 35, 28, 807132),\n",
       " datetime.datetime(2021, 1, 7, 22, 35, 28, 807132),\n",
       " datetime.datetime(2021, 1, 6, 22, 35, 28, 807132),\n",
       " datetime.datetime(2021, 1, 5, 22, 35, 28, 807132),\n",
       " datetime.datetime(2021, 1, 4, 22, 35, 28, 807132),\n",
       " datetime.datetime(2021, 1, 3, 22, 35, 28, 807132),\n",
       " datetime.datetime(2021, 1, 2, 22, 35, 28, 807132),\n",
       " datetime.datetime(2021, 1, 1, 22, 35, 28, 807132),\n",
       " datetime.datetime(2020, 12, 31, 22, 35, 28, 807132),\n",
       " datetime.datetime(2020, 12, 30, 22, 35, 28, 807132),\n",
       " datetime.datetime(2020, 12, 29, 22, 35, 28, 807132),\n",
       " datetime.datetime(2020, 12, 28, 22, 35, 28, 807132),\n",
       " datetime.datetime(2020, 12, 27, 22, 35, 28, 807132),\n",
       " datetime.datetime(2020, 12, 26, 22, 35, 28, 807132),\n",
       " datetime.datetime(2020, 12, 25, 22, 35, 28, 807132),\n",
       " datetime.datetime(2020, 12, 24, 22, 35, 28, 807132),\n",
       " datetime.datetime(2020, 12, 23, 22, 35, 28, 807132),\n",
       " datetime.datetime(2020, 12, 22, 22, 35, 28, 807132),\n",
       " datetime.datetime(2020, 12, 21, 22, 35, 28, 807132),\n",
       " datetime.datetime(2020, 12, 20, 22, 35, 28, 807132)]"
      ]
     },
     "execution_count": 57,
     "metadata": {},
     "output_type": "execute_result"
    }
   ],
   "source": [
    "data"
   ]
  },
  {
   "cell_type": "markdown",
   "metadata": {},
   "source": [
    "<h3 style=\"color:#B4045F;\"> Create a Dataframe of data </h3><br>"
   ]
  },
  {
   "cell_type": "code",
   "execution_count": 58,
   "metadata": {},
   "outputs": [
    {
     "data": {
      "text/html": [
       "<div>\n",
       "<style scoped>\n",
       "    .dataframe tbody tr th:only-of-type {\n",
       "        vertical-align: middle;\n",
       "    }\n",
       "\n",
       "    .dataframe tbody tr th {\n",
       "        vertical-align: top;\n",
       "    }\n",
       "\n",
       "    .dataframe thead th {\n",
       "        text-align: right;\n",
       "    }\n",
       "</style>\n",
       "<table border=\"1\" class=\"dataframe\">\n",
       "  <thead>\n",
       "    <tr style=\"text-align: right;\">\n",
       "      <th></th>\n",
       "      <th>Days</th>\n",
       "    </tr>\n",
       "  </thead>\n",
       "  <tbody>\n",
       "    <tr>\n",
       "      <th>0</th>\n",
       "      <td>2021-01-08 22:35:28.807132</td>\n",
       "    </tr>\n",
       "    <tr>\n",
       "      <th>1</th>\n",
       "      <td>2021-01-07 22:35:28.807132</td>\n",
       "    </tr>\n",
       "    <tr>\n",
       "      <th>2</th>\n",
       "      <td>2021-01-06 22:35:28.807132</td>\n",
       "    </tr>\n",
       "    <tr>\n",
       "      <th>3</th>\n",
       "      <td>2021-01-05 22:35:28.807132</td>\n",
       "    </tr>\n",
       "    <tr>\n",
       "      <th>4</th>\n",
       "      <td>2021-01-04 22:35:28.807132</td>\n",
       "    </tr>\n",
       "  </tbody>\n",
       "</table>\n",
       "</div>"
      ],
      "text/plain": [
       "                        Days\n",
       "0 2021-01-08 22:35:28.807132\n",
       "1 2021-01-07 22:35:28.807132\n",
       "2 2021-01-06 22:35:28.807132\n",
       "3 2021-01-05 22:35:28.807132\n",
       "4 2021-01-04 22:35:28.807132"
      ]
     },
     "execution_count": 58,
     "metadata": {},
     "output_type": "execute_result"
    }
   ],
   "source": [
    "data = pd.DataFrame(data,columns=['Days'])\n",
    "data.head()"
   ]
  },
  {
   "cell_type": "markdown",
   "metadata": {},
   "source": [
    "<h3 style=\"color:#B4045F;\">Create a 'Week Day' as a new feature"
   ]
  },
  {
   "cell_type": "code",
   "execution_count": 59,
   "metadata": {},
   "outputs": [
    {
     "data": {
      "text/html": [
       "<div>\n",
       "<style scoped>\n",
       "    .dataframe tbody tr th:only-of-type {\n",
       "        vertical-align: middle;\n",
       "    }\n",
       "\n",
       "    .dataframe tbody tr th {\n",
       "        vertical-align: top;\n",
       "    }\n",
       "\n",
       "    .dataframe thead th {\n",
       "        text-align: right;\n",
       "    }\n",
       "</style>\n",
       "<table border=\"1\" class=\"dataframe\">\n",
       "  <thead>\n",
       "    <tr style=\"text-align: right;\">\n",
       "      <th></th>\n",
       "      <th>Days</th>\n",
       "      <th>Week Day</th>\n",
       "    </tr>\n",
       "  </thead>\n",
       "  <tbody>\n",
       "    <tr>\n",
       "      <th>0</th>\n",
       "      <td>2021-01-08 22:35:28.807132</td>\n",
       "      <td>Friday</td>\n",
       "    </tr>\n",
       "    <tr>\n",
       "      <th>1</th>\n",
       "      <td>2021-01-07 22:35:28.807132</td>\n",
       "      <td>Thursday</td>\n",
       "    </tr>\n",
       "    <tr>\n",
       "      <th>2</th>\n",
       "      <td>2021-01-06 22:35:28.807132</td>\n",
       "      <td>Wednesday</td>\n",
       "    </tr>\n",
       "    <tr>\n",
       "      <th>3</th>\n",
       "      <td>2021-01-05 22:35:28.807132</td>\n",
       "      <td>Tuesday</td>\n",
       "    </tr>\n",
       "    <tr>\n",
       "      <th>4</th>\n",
       "      <td>2021-01-04 22:35:28.807132</td>\n",
       "      <td>Monday</td>\n",
       "    </tr>\n",
       "    <tr>\n",
       "      <th>5</th>\n",
       "      <td>2021-01-03 22:35:28.807132</td>\n",
       "      <td>Sunday</td>\n",
       "    </tr>\n",
       "    <tr>\n",
       "      <th>6</th>\n",
       "      <td>2021-01-02 22:35:28.807132</td>\n",
       "      <td>Saturday</td>\n",
       "    </tr>\n",
       "  </tbody>\n",
       "</table>\n",
       "</div>"
      ],
      "text/plain": [
       "                        Days   Week Day\n",
       "0 2021-01-08 22:35:28.807132     Friday\n",
       "1 2021-01-07 22:35:28.807132   Thursday\n",
       "2 2021-01-06 22:35:28.807132  Wednesday\n",
       "3 2021-01-05 22:35:28.807132    Tuesday\n",
       "4 2021-01-04 22:35:28.807132     Monday\n",
       "5 2021-01-03 22:35:28.807132     Sunday\n",
       "6 2021-01-02 22:35:28.807132   Saturday"
      ]
     },
     "execution_count": 59,
     "metadata": {},
     "output_type": "execute_result"
    }
   ],
   "source": [
    "data['Week Day'] = data['Days'].dt.day_name()\n",
    "data.head(7)"
   ]
  },
  {
   "cell_type": "markdown",
   "metadata": {},
   "source": [
    "<font color='#045FB4'>\n",
    "\n",
    "- On 'Week Day' column/feature we perform ordinal label encoding, We assign a rank as below :\n",
    "     - Sunday = 0 \n",
    "     - Monday = 1\n",
    "     - Tuesday = 2\n",
    "     - Wednesday = 3\n",
    "     - Thursday = 4\n",
    "     - Friday = 5\n",
    "     - Saturday = 6        "
   ]
  },
  {
   "cell_type": "code",
   "execution_count": 60,
   "metadata": {},
   "outputs": [],
   "source": [
    "week_day_dict = {\n",
    "    'Sunday':0,\n",
    "    'Monday':1,\n",
    "    'Tuesday' : 2,\n",
    "    'Wednesday' : 3,\n",
    "    'Thursday' : 4,\n",
    "    'Friday' : 5,\n",
    "    'Saturday' :6\n",
    "}"
   ]
  },
  {
   "cell_type": "markdown",
   "metadata": {},
   "source": [
    "<h3 style=\"color:#B4045F;\">\n",
    "- Method 1\n",
    "    \n",
    "    - Ordinal Label Encoding using Replace function "
   ]
  },
  {
   "cell_type": "code",
   "execution_count": 61,
   "metadata": {},
   "outputs": [],
   "source": [
    "data['WeekDay Rank Replace'] = data['Week Day'].replace(week_day_dict)"
   ]
  },
  {
   "cell_type": "code",
   "execution_count": 62,
   "metadata": {},
   "outputs": [
    {
     "data": {
      "text/html": [
       "<div>\n",
       "<style scoped>\n",
       "    .dataframe tbody tr th:only-of-type {\n",
       "        vertical-align: middle;\n",
       "    }\n",
       "\n",
       "    .dataframe tbody tr th {\n",
       "        vertical-align: top;\n",
       "    }\n",
       "\n",
       "    .dataframe thead th {\n",
       "        text-align: right;\n",
       "    }\n",
       "</style>\n",
       "<table border=\"1\" class=\"dataframe\">\n",
       "  <thead>\n",
       "    <tr style=\"text-align: right;\">\n",
       "      <th></th>\n",
       "      <th>Days</th>\n",
       "      <th>Week Day</th>\n",
       "      <th>WeekDay Rank Replace</th>\n",
       "    </tr>\n",
       "  </thead>\n",
       "  <tbody>\n",
       "    <tr>\n",
       "      <th>0</th>\n",
       "      <td>2021-01-08 22:35:28.807132</td>\n",
       "      <td>Friday</td>\n",
       "      <td>5</td>\n",
       "    </tr>\n",
       "    <tr>\n",
       "      <th>1</th>\n",
       "      <td>2021-01-07 22:35:28.807132</td>\n",
       "      <td>Thursday</td>\n",
       "      <td>4</td>\n",
       "    </tr>\n",
       "    <tr>\n",
       "      <th>2</th>\n",
       "      <td>2021-01-06 22:35:28.807132</td>\n",
       "      <td>Wednesday</td>\n",
       "      <td>3</td>\n",
       "    </tr>\n",
       "    <tr>\n",
       "      <th>3</th>\n",
       "      <td>2021-01-05 22:35:28.807132</td>\n",
       "      <td>Tuesday</td>\n",
       "      <td>2</td>\n",
       "    </tr>\n",
       "    <tr>\n",
       "      <th>4</th>\n",
       "      <td>2021-01-04 22:35:28.807132</td>\n",
       "      <td>Monday</td>\n",
       "      <td>1</td>\n",
       "    </tr>\n",
       "  </tbody>\n",
       "</table>\n",
       "</div>"
      ],
      "text/plain": [
       "                        Days   Week Day  WeekDay Rank Replace\n",
       "0 2021-01-08 22:35:28.807132     Friday                     5\n",
       "1 2021-01-07 22:35:28.807132   Thursday                     4\n",
       "2 2021-01-06 22:35:28.807132  Wednesday                     3\n",
       "3 2021-01-05 22:35:28.807132    Tuesday                     2\n",
       "4 2021-01-04 22:35:28.807132     Monday                     1"
      ]
     },
     "execution_count": 62,
     "metadata": {},
     "output_type": "execute_result"
    }
   ],
   "source": [
    "data.head()"
   ]
  },
  {
   "cell_type": "markdown",
   "metadata": {},
   "source": [
    "<h3 style=\"color:#B4045F;\">\n",
    "- Method 2\n",
    "    \n",
    "    - Ordinal Label Encoding using Map function"
   ]
  },
  {
   "cell_type": "code",
   "execution_count": 63,
   "metadata": {},
   "outputs": [],
   "source": [
    "data['WeekDay Rank Map'] = data['Week Day'].map(week_day_dict)"
   ]
  },
  {
   "cell_type": "code",
   "execution_count": 64,
   "metadata": {},
   "outputs": [
    {
     "data": {
      "text/html": [
       "<div>\n",
       "<style scoped>\n",
       "    .dataframe tbody tr th:only-of-type {\n",
       "        vertical-align: middle;\n",
       "    }\n",
       "\n",
       "    .dataframe tbody tr th {\n",
       "        vertical-align: top;\n",
       "    }\n",
       "\n",
       "    .dataframe thead th {\n",
       "        text-align: right;\n",
       "    }\n",
       "</style>\n",
       "<table border=\"1\" class=\"dataframe\">\n",
       "  <thead>\n",
       "    <tr style=\"text-align: right;\">\n",
       "      <th></th>\n",
       "      <th>Days</th>\n",
       "      <th>Week Day</th>\n",
       "      <th>WeekDay Rank Replace</th>\n",
       "      <th>WeekDay Rank Map</th>\n",
       "    </tr>\n",
       "  </thead>\n",
       "  <tbody>\n",
       "    <tr>\n",
       "      <th>0</th>\n",
       "      <td>2021-01-08 22:35:28.807132</td>\n",
       "      <td>Friday</td>\n",
       "      <td>5</td>\n",
       "      <td>5</td>\n",
       "    </tr>\n",
       "    <tr>\n",
       "      <th>1</th>\n",
       "      <td>2021-01-07 22:35:28.807132</td>\n",
       "      <td>Thursday</td>\n",
       "      <td>4</td>\n",
       "      <td>4</td>\n",
       "    </tr>\n",
       "    <tr>\n",
       "      <th>2</th>\n",
       "      <td>2021-01-06 22:35:28.807132</td>\n",
       "      <td>Wednesday</td>\n",
       "      <td>3</td>\n",
       "      <td>3</td>\n",
       "    </tr>\n",
       "    <tr>\n",
       "      <th>3</th>\n",
       "      <td>2021-01-05 22:35:28.807132</td>\n",
       "      <td>Tuesday</td>\n",
       "      <td>2</td>\n",
       "      <td>2</td>\n",
       "    </tr>\n",
       "    <tr>\n",
       "      <th>4</th>\n",
       "      <td>2021-01-04 22:35:28.807132</td>\n",
       "      <td>Monday</td>\n",
       "      <td>1</td>\n",
       "      <td>1</td>\n",
       "    </tr>\n",
       "    <tr>\n",
       "      <th>5</th>\n",
       "      <td>2021-01-03 22:35:28.807132</td>\n",
       "      <td>Sunday</td>\n",
       "      <td>0</td>\n",
       "      <td>0</td>\n",
       "    </tr>\n",
       "    <tr>\n",
       "      <th>6</th>\n",
       "      <td>2021-01-02 22:35:28.807132</td>\n",
       "      <td>Saturday</td>\n",
       "      <td>6</td>\n",
       "      <td>6</td>\n",
       "    </tr>\n",
       "  </tbody>\n",
       "</table>\n",
       "</div>"
      ],
      "text/plain": [
       "                        Days   Week Day  WeekDay Rank Replace  \\\n",
       "0 2021-01-08 22:35:28.807132     Friday                     5   \n",
       "1 2021-01-07 22:35:28.807132   Thursday                     4   \n",
       "2 2021-01-06 22:35:28.807132  Wednesday                     3   \n",
       "3 2021-01-05 22:35:28.807132    Tuesday                     2   \n",
       "4 2021-01-04 22:35:28.807132     Monday                     1   \n",
       "5 2021-01-03 22:35:28.807132     Sunday                     0   \n",
       "6 2021-01-02 22:35:28.807132   Saturday                     6   \n",
       "\n",
       "   WeekDay Rank Map  \n",
       "0                 5  \n",
       "1                 4  \n",
       "2                 3  \n",
       "3                 2  \n",
       "4                 1  \n",
       "5                 0  \n",
       "6                 6  "
      ]
     },
     "execution_count": 64,
     "metadata": {},
     "output_type": "execute_result"
    }
   ],
   "source": [
    "data.head(7)"
   ]
  },
  {
   "cell_type": "markdown",
   "metadata": {},
   "source": [
    "<font color='#045FB4'>\n",
    "    Now you can take 'WeekDay Rank Replace' or 'WeekDay Rank Map' feature and and drop 'Week Day' feature"
   ]
  },
  {
   "cell_type": "code",
   "execution_count": 65,
   "metadata": {},
   "outputs": [
    {
     "data": {
      "text/html": [
       "<div>\n",
       "<style scoped>\n",
       "    .dataframe tbody tr th:only-of-type {\n",
       "        vertical-align: middle;\n",
       "    }\n",
       "\n",
       "    .dataframe tbody tr th {\n",
       "        vertical-align: top;\n",
       "    }\n",
       "\n",
       "    .dataframe thead th {\n",
       "        text-align: right;\n",
       "    }\n",
       "</style>\n",
       "<table border=\"1\" class=\"dataframe\">\n",
       "  <thead>\n",
       "    <tr style=\"text-align: right;\">\n",
       "      <th></th>\n",
       "      <th>Days</th>\n",
       "      <th>WeekDay Rank Map</th>\n",
       "    </tr>\n",
       "  </thead>\n",
       "  <tbody>\n",
       "    <tr>\n",
       "      <th>0</th>\n",
       "      <td>2021-01-08 22:35:28.807132</td>\n",
       "      <td>5</td>\n",
       "    </tr>\n",
       "    <tr>\n",
       "      <th>1</th>\n",
       "      <td>2021-01-07 22:35:28.807132</td>\n",
       "      <td>4</td>\n",
       "    </tr>\n",
       "    <tr>\n",
       "      <th>2</th>\n",
       "      <td>2021-01-06 22:35:28.807132</td>\n",
       "      <td>3</td>\n",
       "    </tr>\n",
       "    <tr>\n",
       "      <th>3</th>\n",
       "      <td>2021-01-05 22:35:28.807132</td>\n",
       "      <td>2</td>\n",
       "    </tr>\n",
       "    <tr>\n",
       "      <th>4</th>\n",
       "      <td>2021-01-04 22:35:28.807132</td>\n",
       "      <td>1</td>\n",
       "    </tr>\n",
       "    <tr>\n",
       "      <th>5</th>\n",
       "      <td>2021-01-03 22:35:28.807132</td>\n",
       "      <td>0</td>\n",
       "    </tr>\n",
       "    <tr>\n",
       "      <th>6</th>\n",
       "      <td>2021-01-02 22:35:28.807132</td>\n",
       "      <td>6</td>\n",
       "    </tr>\n",
       "    <tr>\n",
       "      <th>7</th>\n",
       "      <td>2021-01-01 22:35:28.807132</td>\n",
       "      <td>5</td>\n",
       "    </tr>\n",
       "    <tr>\n",
       "      <th>8</th>\n",
       "      <td>2020-12-31 22:35:28.807132</td>\n",
       "      <td>4</td>\n",
       "    </tr>\n",
       "    <tr>\n",
       "      <th>9</th>\n",
       "      <td>2020-12-30 22:35:28.807132</td>\n",
       "      <td>3</td>\n",
       "    </tr>\n",
       "    <tr>\n",
       "      <th>10</th>\n",
       "      <td>2020-12-29 22:35:28.807132</td>\n",
       "      <td>2</td>\n",
       "    </tr>\n",
       "    <tr>\n",
       "      <th>11</th>\n",
       "      <td>2020-12-28 22:35:28.807132</td>\n",
       "      <td>1</td>\n",
       "    </tr>\n",
       "    <tr>\n",
       "      <th>12</th>\n",
       "      <td>2020-12-27 22:35:28.807132</td>\n",
       "      <td>0</td>\n",
       "    </tr>\n",
       "    <tr>\n",
       "      <th>13</th>\n",
       "      <td>2020-12-26 22:35:28.807132</td>\n",
       "      <td>6</td>\n",
       "    </tr>\n",
       "    <tr>\n",
       "      <th>14</th>\n",
       "      <td>2020-12-25 22:35:28.807132</td>\n",
       "      <td>5</td>\n",
       "    </tr>\n",
       "    <tr>\n",
       "      <th>15</th>\n",
       "      <td>2020-12-24 22:35:28.807132</td>\n",
       "      <td>4</td>\n",
       "    </tr>\n",
       "    <tr>\n",
       "      <th>16</th>\n",
       "      <td>2020-12-23 22:35:28.807132</td>\n",
       "      <td>3</td>\n",
       "    </tr>\n",
       "    <tr>\n",
       "      <th>17</th>\n",
       "      <td>2020-12-22 22:35:28.807132</td>\n",
       "      <td>2</td>\n",
       "    </tr>\n",
       "    <tr>\n",
       "      <th>18</th>\n",
       "      <td>2020-12-21 22:35:28.807132</td>\n",
       "      <td>1</td>\n",
       "    </tr>\n",
       "    <tr>\n",
       "      <th>19</th>\n",
       "      <td>2020-12-20 22:35:28.807132</td>\n",
       "      <td>0</td>\n",
       "    </tr>\n",
       "  </tbody>\n",
       "</table>\n",
       "</div>"
      ],
      "text/plain": [
       "                         Days  WeekDay Rank Map\n",
       "0  2021-01-08 22:35:28.807132                 5\n",
       "1  2021-01-07 22:35:28.807132                 4\n",
       "2  2021-01-06 22:35:28.807132                 3\n",
       "3  2021-01-05 22:35:28.807132                 2\n",
       "4  2021-01-04 22:35:28.807132                 1\n",
       "5  2021-01-03 22:35:28.807132                 0\n",
       "6  2021-01-02 22:35:28.807132                 6\n",
       "7  2021-01-01 22:35:28.807132                 5\n",
       "8  2020-12-31 22:35:28.807132                 4\n",
       "9  2020-12-30 22:35:28.807132                 3\n",
       "10 2020-12-29 22:35:28.807132                 2\n",
       "11 2020-12-28 22:35:28.807132                 1\n",
       "12 2020-12-27 22:35:28.807132                 0\n",
       "13 2020-12-26 22:35:28.807132                 6\n",
       "14 2020-12-25 22:35:28.807132                 5\n",
       "15 2020-12-24 22:35:28.807132                 4\n",
       "16 2020-12-23 22:35:28.807132                 3\n",
       "17 2020-12-22 22:35:28.807132                 2\n",
       "18 2020-12-21 22:35:28.807132                 1\n",
       "19 2020-12-20 22:35:28.807132                 0"
      ]
     },
     "execution_count": 65,
     "metadata": {},
     "output_type": "execute_result"
    }
   ],
   "source": [
    "data.drop(['Week Day','WeekDay Rank Replace'],axis=1,inplace=True)\n",
    "data"
   ]
  },
  {
   "cell_type": "markdown",
   "metadata": {},
   "source": [
    "### Please let me know your feedback in comment section\n",
    "#### Also, [take a look at my other notebooks](https://www.kaggle.com/rushikeshlavate/notebooks)\n",
    "<h1 align='center' style=\"color:green;\"><u>|| Thank you ! 😀😀 ||</h1>"
   ]
  },
  {
   "cell_type": "code",
   "execution_count": null,
   "metadata": {},
   "outputs": [],
   "source": []
  }
 ],
 "metadata": {
  "kernelspec": {
   "display_name": "Python 3",
   "language": "python",
   "name": "python3"
  },
  "language_info": {
   "codemirror_mode": {
    "name": "ipython",
    "version": 3
   },
   "file_extension": ".py",
   "mimetype": "text/x-python",
   "name": "python",
   "nbconvert_exporter": "python",
   "pygments_lexer": "ipython3",
   "version": "3.8.5"
  }
 },
 "nbformat": 4,
 "nbformat_minor": 4
}
